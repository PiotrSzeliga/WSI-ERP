{
 "cells": [
  {
   "cell_type": "code",
   "execution_count": 69,
   "metadata": {},
   "outputs": [],
   "source": [
    "import prettytable"
   ]
  },
  {
   "cell_type": "code",
   "execution_count": 198,
   "metadata": {},
   "outputs": [],
   "source": [
    "magazyn = {\n",
    "    \"blaty\": 50,\n",
    "    \"nogi\": 100\n",
    "}\n",
    "\n",
    "tabelka = {\n",
    "    \"Dzień\":            [], \n",
    "    \"Index\":            [x for x in range(1,10)],  \n",
    "    \"Zamówione stoły\":  [0 for x in range(1,10)],\n",
    "    \"Wstępne blaty\":    [magazyn[\"blaty\"] for x in range(1,10)],\n",
    "    \"Potrzebne blaty\":  [0 for x in range(1,10)],\n",
    "    \"Wstępne nogi\":     [magazyn[\"nogi\"] for x in range(1,10)],\n",
    "    \"Potrzebne nogi\":   [0 for x in range(1,10)]\n",
    "}\n"
   ]
  },
  {
   "cell_type": "code",
   "execution_count": 197,
   "metadata": {},
   "outputs": [],
   "source": [
    "def zlecenie(ilość,indeks):\n",
    "    tabelka[\"Zamówione stoły\"][indeks-1] += ilość\n",
    "    \n",
    "    if tabelka[\"Zamówione stoły\"][indeks-1]-tabelka[\"Wstępne blaty\"][indeks-2] >= 0:\n",
    "        tabelka[\"Potrzebne blaty\"][indeks-2] = tabelka[\"Zamówione stoły\"][indeks-1]-tabelka[\"Wstępne blaty\"][indeks-2]      \n",
    "        \n",
    "    else:\n",
    "        \n",
    "    \n",
    "    tabelka[\"Potrzebne nogi\"][indeks-2] = 4*tabelka[\"Zamówione stoły\"][indeks-1]-tabelka[\"Wstępne nogi\"][indeks-2]"
   ]
  },
  {
   "cell_type": "code",
   "execution_count": 200,
   "metadata": {},
   "outputs": [
    {
     "name": "stdout",
     "output_type": "stream",
     "text": [
      "ABUBU\n"
     ]
    }
   ],
   "source": [
    "zlecenie(5,5)"
   ]
  },
  {
   "cell_type": "code",
   "execution_count": 201,
   "metadata": {},
   "outputs": [
    {
     "name": "stdout",
     "output_type": "stream",
     "text": [
      "Tydzień [1, 2, 3, 4, 5, 6, 7, 8, 9]\n",
      "Zamówione stoły [0, 0, 0, 0, 5, 0, 0, 0, 0]\n",
      "Wstępne blaty [50, 50, 50, 50, 50, 50, 50, 50, 50]\n",
      "Potrzebne blaty [0, 0, 0, 0, 0, 0, 0, 0, 0]\n",
      "Wstępne nogi [100, 100, 100, 100, 100, 100, 100, 100, 100]\n",
      "Potrzebne nogi [0, 0, 0, -80, 0, 0, 0, 0, 0]\n"
     ]
    }
   ],
   "source": [
    "for x,y in tabelka.items():\n",
    "    print(x,y)"
   ]
  },
  {
   "cell_type": "code",
   "execution_count": null,
   "metadata": {},
   "outputs": [],
   "source": []
  }
 ],
 "metadata": {
  "kernelspec": {
   "display_name": "Python 3",
   "language": "python",
   "name": "python3"
  },
  "language_info": {
   "codemirror_mode": {
    "name": "ipython",
    "version": 3
   },
   "file_extension": ".py",
   "mimetype": "text/x-python",
   "name": "python",
   "nbconvert_exporter": "python",
   "pygments_lexer": "ipython3",
   "version": "3.12.0"
  }
 },
 "nbformat": 4,
 "nbformat_minor": 2
}
